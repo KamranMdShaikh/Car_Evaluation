{
 "cells": [
  {
   "cell_type": "code",
   "execution_count": 1,
   "metadata": {},
   "outputs": [
    {
     "data": {
      "text/html": [
       "<style type=\"text/css\">\n",
       "table.dataframe td, table.dataframe th {\n",
       "    border: 1px  black solid !important;\n",
       "  color: black !important;\n",
       "}\n",
       "</style>\n"
      ],
      "text/plain": [
       "<IPython.core.display.HTML object>"
      ]
     },
     "metadata": {},
     "output_type": "display_data"
    }
   ],
   "source": [
    "%%HTML\n",
    "<style type=\"text/css\">\n",
    "table.dataframe td, table.dataframe th {\n",
    "    border: 1px  black solid !important;\n",
    "  color: black !important;\n",
    "}\n",
    "</style>"
   ]
  },
  {
   "cell_type": "code",
   "execution_count": 2,
   "metadata": {},
   "outputs": [],
   "source": [
    "import pandas as pd\n",
    "import numpy as np\n",
    "import matplotlib.pyplot as plt\n",
    "import seaborn as sns\n",
    "%matplotlib inline"
   ]
  },
  {
   "cell_type": "code",
   "execution_count": 3,
   "metadata": {},
   "outputs": [
    {
     "data": {
      "text/html": [
       "<div>\n",
       "<style scoped>\n",
       "    .dataframe tbody tr th:only-of-type {\n",
       "        vertical-align: middle;\n",
       "    }\n",
       "\n",
       "    .dataframe tbody tr th {\n",
       "        vertical-align: top;\n",
       "    }\n",
       "\n",
       "    .dataframe thead th {\n",
       "        text-align: right;\n",
       "    }\n",
       "</style>\n",
       "<table border=\"1\" class=\"dataframe\">\n",
       "  <thead>\n",
       "    <tr style=\"text-align: right;\">\n",
       "      <th></th>\n",
       "      <th>Buying</th>\n",
       "      <th>Maintenance</th>\n",
       "      <th>Doors</th>\n",
       "      <th>Persons</th>\n",
       "      <th>Luggage_Boot</th>\n",
       "      <th>Safety</th>\n",
       "    </tr>\n",
       "  </thead>\n",
       "  <tbody>\n",
       "    <tr>\n",
       "      <th>vhigh</th>\n",
       "      <td>vhigh</td>\n",
       "      <td>2</td>\n",
       "      <td>2</td>\n",
       "      <td>small</td>\n",
       "      <td>low</td>\n",
       "      <td>unacc</td>\n",
       "    </tr>\n",
       "    <tr>\n",
       "      <th>vhigh</th>\n",
       "      <td>vhigh</td>\n",
       "      <td>2</td>\n",
       "      <td>2</td>\n",
       "      <td>small</td>\n",
       "      <td>med</td>\n",
       "      <td>unacc</td>\n",
       "    </tr>\n",
       "    <tr>\n",
       "      <th>vhigh</th>\n",
       "      <td>vhigh</td>\n",
       "      <td>2</td>\n",
       "      <td>2</td>\n",
       "      <td>small</td>\n",
       "      <td>high</td>\n",
       "      <td>unacc</td>\n",
       "    </tr>\n",
       "    <tr>\n",
       "      <th>vhigh</th>\n",
       "      <td>vhigh</td>\n",
       "      <td>2</td>\n",
       "      <td>2</td>\n",
       "      <td>med</td>\n",
       "      <td>low</td>\n",
       "      <td>unacc</td>\n",
       "    </tr>\n",
       "    <tr>\n",
       "      <th>vhigh</th>\n",
       "      <td>vhigh</td>\n",
       "      <td>2</td>\n",
       "      <td>2</td>\n",
       "      <td>med</td>\n",
       "      <td>med</td>\n",
       "      <td>unacc</td>\n",
       "    </tr>\n",
       "    <tr>\n",
       "      <th>...</th>\n",
       "      <td>...</td>\n",
       "      <td>...</td>\n",
       "      <td>...</td>\n",
       "      <td>...</td>\n",
       "      <td>...</td>\n",
       "      <td>...</td>\n",
       "    </tr>\n",
       "    <tr>\n",
       "      <th>low</th>\n",
       "      <td>low</td>\n",
       "      <td>5more</td>\n",
       "      <td>more</td>\n",
       "      <td>med</td>\n",
       "      <td>med</td>\n",
       "      <td>good</td>\n",
       "    </tr>\n",
       "    <tr>\n",
       "      <th>low</th>\n",
       "      <td>low</td>\n",
       "      <td>5more</td>\n",
       "      <td>more</td>\n",
       "      <td>med</td>\n",
       "      <td>high</td>\n",
       "      <td>vgood</td>\n",
       "    </tr>\n",
       "    <tr>\n",
       "      <th>low</th>\n",
       "      <td>low</td>\n",
       "      <td>5more</td>\n",
       "      <td>more</td>\n",
       "      <td>big</td>\n",
       "      <td>low</td>\n",
       "      <td>unacc</td>\n",
       "    </tr>\n",
       "    <tr>\n",
       "      <th>low</th>\n",
       "      <td>low</td>\n",
       "      <td>5more</td>\n",
       "      <td>more</td>\n",
       "      <td>big</td>\n",
       "      <td>med</td>\n",
       "      <td>good</td>\n",
       "    </tr>\n",
       "    <tr>\n",
       "      <th>low</th>\n",
       "      <td>low</td>\n",
       "      <td>5more</td>\n",
       "      <td>more</td>\n",
       "      <td>big</td>\n",
       "      <td>high</td>\n",
       "      <td>vgood</td>\n",
       "    </tr>\n",
       "  </tbody>\n",
       "</table>\n",
       "<p>1728 rows × 6 columns</p>\n",
       "</div>"
      ],
      "text/plain": [
       "      Buying Maintenance Doors Persons Luggage_Boot Safety\n",
       "vhigh  vhigh           2     2   small          low  unacc\n",
       "vhigh  vhigh           2     2   small          med  unacc\n",
       "vhigh  vhigh           2     2   small         high  unacc\n",
       "vhigh  vhigh           2     2     med          low  unacc\n",
       "vhigh  vhigh           2     2     med          med  unacc\n",
       "...      ...         ...   ...     ...          ...    ...\n",
       "low      low       5more  more     med          med   good\n",
       "low      low       5more  more     med         high  vgood\n",
       "low      low       5more  more     big          low  unacc\n",
       "low      low       5more  more     big          med   good\n",
       "low      low       5more  more     big         high  vgood\n",
       "\n",
       "[1728 rows x 6 columns]"
      ]
     },
     "execution_count": 3,
     "metadata": {},
     "output_type": "execute_result"
    }
   ],
   "source": [
    "df = pd.read_csv(\"car_evaluation.csv\")\n",
    "\n",
    "header_list =  ['Buying', 'Maintenance', 'Doors', 'Persons', 'Luggage_Boot', 'Safety']\n",
    "\n",
    "#Add Name To Column\n",
    "df = pd.read_csv(\"car_evaluation.csv\", names=header_list)\n",
    "df"
   ]
  },
  {
   "cell_type": "code",
   "execution_count": 4,
   "metadata": {},
   "outputs": [
    {
     "data": {
      "text/plain": [
       "0"
      ]
     },
     "execution_count": 4,
     "metadata": {},
     "output_type": "execute_result"
    }
   ],
   "source": [
    "#Check for null values\n",
    "df.isnull().any(axis = 1).sum()"
   ]
  },
  {
   "cell_type": "code",
   "execution_count": 5,
   "metadata": {},
   "outputs": [
    {
     "name": "stdout",
     "output_type": "stream",
     "text": [
      "Buying\n",
      "['vhigh' 'high' 'med' 'low'] \n",
      "\n",
      "Maintenance\n",
      "['2' '3' '4' '5more'] \n",
      "\n",
      "Doors\n",
      "['2' '4' 'more'] \n",
      "\n",
      "Persons\n",
      "['small' 'med' 'big'] \n",
      "\n",
      "Luggage_Boot\n",
      "['low' 'med' 'high'] \n",
      "\n",
      "Safety\n",
      "['unacc' 'acc' 'vgood' 'good'] \n",
      "\n"
     ]
    }
   ],
   "source": [
    "for i in (df.columns):\n",
    "    print(i)\n",
    "    print(df[i].unique(), '\\n')"
   ]
  },
  {
   "cell_type": "code",
   "execution_count": 6,
   "metadata": {},
   "outputs": [],
   "source": [
    "def car_evaluation_Safety(x):\n",
    "    if x=='unacc':\n",
    "        return \"unacceptable\"\n",
    "    elif x=='acc':\n",
    "        return \"acceptable\"\n",
    "    elif x=='vgood':\n",
    "        return \"Very_Good\"\n",
    "    else:\n",
    "        return 'good'\n",
    "    \n",
    "def car_evaluation_Maintenance(x):\n",
    "    if x=='2':\n",
    "        return \"low\"\n",
    "    elif x=='3':\n",
    "        return \"med\"\n",
    "    elif x=='4':\n",
    "        return \"high\"\n",
    "    elif x=='5more':\n",
    "        return \"very_high\"\n",
    "    "
   ]
  },
  {
   "cell_type": "code",
   "execution_count": 7,
   "metadata": {},
   "outputs": [],
   "source": [
    "def fillmissing_object(table, col_name):\n",
    "    table[col_name] = table[col_name].astype('object')\n",
    "    table[col_name].fillna(table[col_name].value_counts().idxmax(), inplace=True)\n",
    "\n",
    "#fill the categorical values\n",
    "fillmissing_object(df, 'Buying')\n",
    "fillmissing_object(df, 'Maintenance')\n",
    "fillmissing_object(df, 'Doors')\n",
    "fillmissing_object(df, 'Persons')\n",
    "fillmissing_object(df, 'Luggage_Boot')\n",
    "fillmissing_object(df, 'Safety')\n"
   ]
  },
  {
   "cell_type": "code",
   "execution_count": 8,
   "metadata": {},
   "outputs": [
    {
     "data": {
      "text/plain": [
       "0"
      ]
     },
     "execution_count": 8,
     "metadata": {},
     "output_type": "execute_result"
    }
   ],
   "source": [
    "df.Safety = df.Safety.apply(lambda x:car_evaluation_Safety(x))    \n",
    "df.Maintenance = df['Maintenance'].apply(lambda x:car_evaluation_Maintenance(x))\n",
    "df.isnull().any(axis = 1).sum()\n"
   ]
  },
  {
   "cell_type": "code",
   "execution_count": 9,
   "metadata": {},
   "outputs": [
    {
     "name": "stdout",
     "output_type": "stream",
     "text": [
      "Buying\n",
      "['vhigh' 'high' 'med' 'low'] \n",
      "\n",
      "Maintenance\n",
      "['low' 'med' 'high' 'very_high'] \n",
      "\n",
      "Doors\n",
      "['2' '4' 'more'] \n",
      "\n",
      "Persons\n",
      "['small' 'med' 'big'] \n",
      "\n",
      "Luggage_Boot\n",
      "['low' 'med' 'high'] \n",
      "\n",
      "Safety\n",
      "['unacceptable' 'acceptable' 'Very_Good' 'good'] \n",
      "\n"
     ]
    }
   ],
   "source": [
    "for i in (df.columns):\n",
    "    print(i)\n",
    "    print(df[i].unique(), '\\n')"
   ]
  },
  {
   "cell_type": "code",
   "execution_count": 10,
   "metadata": {},
   "outputs": [],
   "source": [
    "from scipy import stats\n",
    "\n",
    "def chi_sq_test(DF, var1, var2):\n",
    "    dataset_table = pd.crosstab(DF[var1], DF[var2])\n",
    "    print('contingency table between {} and {} is:\\n'.format(var1, var2))\n",
    "    print(dataset_table)\n",
    "    val = stats.chi2_contingency(dataset_table)\n",
    "    Observed_Values = dataset_table.values \n",
    "    Expected_Values = val[-1]\n",
    "    no_of_rows = dataset_table.shape[0]\n",
    "    no_of_columns = dataset_table.shape[1]\n",
    "    ddof = (no_of_rows-1)*(no_of_columns-1)\n",
    "    print(\"\\nDegree of Freedom:-\",ddof)\n",
    "    alpha = 0.05\n",
    "    chi_square = sum([(o-e)**2./e for o,e in zip(Observed_Values, Expected_Values)])\n",
    "    chi_square_statistic = chi_square[0]+chi_square[1]\n",
    "    critical_value = stats.chi2.ppf(q=1-alpha,df=ddof)\n",
    "    p_value = 1-stats.chi2.cdf(x=chi_square_statistic,df=ddof)\n",
    "    \n",
    "    if chi_square_statistic>=critical_value and p_value<=alpha:\n",
    "        print(\"chi_square_statistic is {} and p-value is {}.\\nSo, there is a relationship between 2 categorical variables \\n\\n\".format(chi_square_statistic, p_value))\n",
    "    elif chi_square_statistic>=critical_value and p_value>alpha:\n",
    "        print(\"chi_square_statistic is {} and p-value is {}.\\nSo, there is a weak relationship between 2 categorical variables, but not evident enough \\n\\n\".format(chi_square_statistic, p_value))\n",
    "    else:\n",
    "        print(\"chi_square_statistic is {} and p-value is {}.\\nSo, these 2 variables are not related at all.\\n\\n\".format(chi_square_statistic, p_value))"
   ]
  },
  {
   "cell_type": "code",
   "execution_count": 11,
   "metadata": {},
   "outputs": [
    {
     "name": "stdout",
     "output_type": "stream",
     "text": [
      "contingency table between Buying and Safety is:\n",
      "\n",
      "Safety  Very_Good  acceptable  good  unacceptable\n",
      "Buying                                           \n",
      "high           13         105     0           314\n",
      "low            26          92    46           268\n",
      "med            26         115    23           268\n",
      "vhigh           0          72     0           360\n",
      "\n",
      "Degree of Freedom:- 9\n",
      "chi_square_statistic is 39.37083333333334 and p-value is 9.87526903328817e-06.\n",
      "So, there is a relationship between 2 categorical variables \n",
      "\n",
      "\n",
      "None \n",
      "\n",
      "contingency table between Maintenance and Safety is:\n",
      "\n",
      "Safety       Very_Good  acceptable  good  unacceptable\n",
      "Maintenance                                           \n",
      "high                20         102    18           292\n",
      "low                 10          81    15           326\n",
      "med                 15          99    18           300\n",
      "very_high           20         102    18           292\n",
      "\n",
      "Degree of Freedom:- 9\n",
      "chi_square_statistic is 7.418269230769231 and p-value is 0.593657236527039.\n",
      "So, these 2 variables are not related at all.\n",
      "\n",
      "\n",
      "None \n",
      "\n",
      "contingency table between Doors and Safety is:\n",
      "\n",
      "Safety  Very_Good  acceptable  good  unacceptable\n",
      "Doors                                            \n",
      "2               0           0     0           576\n",
      "4              30         198    36           312\n",
      "more           35         186    33           322\n",
      "\n",
      "Degree of Freedom:- 6\n",
      "chi_square_statistic is 225.63942307692307 and p-value is 0.0.\n",
      "So, there is a relationship between 2 categorical variables \n",
      "\n",
      "\n",
      "None \n",
      "\n",
      "contingency table between Persons and Safety is:\n",
      "\n",
      "Safety   Very_Good  acceptable  good  unacceptable\n",
      "Persons                                           \n",
      "big             40         144    24           368\n",
      "med             25         135    24           392\n",
      "small            0         105    21           450\n",
      "\n",
      "Degree of Freedom:- 6\n",
      "chi_square_statistic is 44.20793269230769 and p-value is 6.722414980231406e-08.\n",
      "So, there is a relationship between 2 categorical variables \n",
      "\n",
      "\n",
      "None \n",
      "\n",
      "contingency table between Luggage_Boot and Safety is:\n",
      "\n",
      "Safety        Very_Good  acceptable  good  unacceptable\n",
      "Luggage_Boot                                           \n",
      "high                 65         204    30           277\n",
      "low                   0           0     0           576\n",
      "med                   0         180    39           357\n",
      "\n",
      "Degree of Freedom:- 6\n",
      "chi_square_statistic is 324.25 and p-value is 0.0.\n",
      "So, there is a relationship between 2 categorical variables \n",
      "\n",
      "\n",
      "None \n",
      "\n"
     ]
    }
   ],
   "source": [
    "for i in (df.columns[:-1]):\n",
    "    x=chi_sq_test(df, i, 'Safety')\n",
    "    print(x, '\\n')\n"
   ]
  },
  {
   "cell_type": "code",
   "execution_count": null,
   "metadata": {},
   "outputs": [],
   "source": []
  },
  {
   "cell_type": "code",
   "execution_count": null,
   "metadata": {},
   "outputs": [],
   "source": []
  }
 ],
 "metadata": {
  "kernelspec": {
   "display_name": "Python 3",
   "language": "python",
   "name": "python3"
  },
  "language_info": {
   "codemirror_mode": {
    "name": "ipython",
    "version": 3
   },
   "file_extension": ".py",
   "mimetype": "text/x-python",
   "name": "python",
   "nbconvert_exporter": "python",
   "pygments_lexer": "ipython3",
   "version": "3.7.6"
  }
 },
 "nbformat": 4,
 "nbformat_minor": 4
}
